{
 "cells": [
  {
   "cell_type": "code",
   "execution_count": 1,
   "id": "f785296c-dd02-482c-8d66-55f31789a96d",
   "metadata": {},
   "outputs": [],
   "source": [
    "import random\n",
    "import time"
   ]
  },
  {
   "cell_type": "code",
   "execution_count": 3,
   "id": "c24904c6-b808-4f6c-a5b0-585195000ede",
   "metadata": {},
   "outputs": [
    {
     "name": "stdin",
     "output_type": "stream",
     "text": [
      "ENTER TOTAL REQUIRED PERIODS:  6\n"
     ]
    }
   ],
   "source": [
    "#required parameters for building timetable\n",
    "population_size = 100 \n",
    "periods = int(input(\"ENTER TOTAL REQUIRED PERIODS: \"))\n",
    "days = 5 # no of working days per week\n",
    "t_subjects = 6 # total no of subjects \n",
    "t_prof = 3 # available profs for teaching the subjects"
   ]
  },
  {
   "cell_type": "code",
   "execution_count": 4,
   "id": "4315985f-ce95-4cd5-9f7c-2768fb5bd606",
   "metadata": {},
   "outputs": [],
   "source": [
    "# Mapping between the subject and prof\n",
    "subjects = \"ABCDEF\"\n",
    "profs = \"XYZ\"\n",
    "map = \"YXXZYX\""
   ]
  },
  {
   "cell_type": "code",
   "execution_count": 5,
   "id": "cabef6ce-40a5-4fa7-a46e-d242d8b5e8c5",
   "metadata": {},
   "outputs": [],
   "source": [
    "#Time constraints\n",
    "sub_time  = [7, 3, 6, 4, 5, 5] #time required for subject respectively\n",
    "prof_time = [13, 12, 5] #time prof will teach respectively"
   ]
  },
  {
   "cell_type": "code",
   "execution_count": 6,
   "id": "4ec936e2-b4aa-4ca0-a04b-4448a6c3de67",
   "metadata": {},
   "outputs": [],
   "source": [
    "#Generatin random numbers for mutation, crossover\n",
    "def random_number(str, end):\n",
    "    return random.randint(str, end)"
   ]
  },
  {
   "cell_type": "code",
   "execution_count": 7,
   "id": "15d79ae9-38bd-42e4-a776-a0a638edba40",
   "metadata": {},
   "outputs": [],
   "source": [
    "#creating a chromosome\n",
    "def chromosome():\n",
    "    return random.choice(subjects)"
   ]
  },
  {
   "cell_type": "code",
   "execution_count": 8,
   "id": "d8deb3e3-33b7-4661-a9cc-832d37285211",
   "metadata": {},
   "outputs": [],
   "source": [
    "#creating thread of chromosomes i.e; timetable\n",
    "def timetable():\n",
    "    timetable = [] #empty list on which our timetable is gonna be stored in day wise\n",
    "    for i in range(days):\n",
    "        schedule =  \"\" # empty string in which the particular day's schedule will be stored\n",
    "        for j in range(periods):\n",
    "            schedule += chromosome()\n",
    "        timetable.append(schedule)\n",
    "    return timetable"
   ]
  },
  {
   "cell_type": "code",
   "execution_count": 9,
   "id": "535e04a1-3654-4493-9309-b9e885d1c60c",
   "metadata": {},
   "outputs": [],
   "source": [
    "#creating time table\n",
    "class Ant:\n",
    "    def __init__(self):\n",
    "        self.path = []\n",
    "\n",
    "    def solution(self): #the previously created timetable using genetic algorithm is converted into an ant \n",
    "        self.path = timetable() "
   ]
  },
  {
   "cell_type": "code",
   "execution_count": 10,
   "id": "07c1ebba-023e-4631-9a56-ae825eef7c7f",
   "metadata": {},
   "outputs": [],
   "source": [
    "#optimizing the solution using ACO\n",
    "class ACO: \n",
    "    def __init__(self):\n",
    "        self.ants = [] #ants here refer to collection timetable generated randomly\n",
    "        for i in range(population_size):\n",
    "            new_ant = Ant()  \n",
    "            self.ants.append(new_ant)  \n",
    "        self.best_solution = None #best_solution is the solution that passes through the fitness test and is the best among generated ones\n",
    "\n",
    "    def aco(self):\n",
    "        for ant in self.ants:\n",
    "            ant.solution()\n",
    "            fitness = self.fitness(ant.path)\n",
    "            if self.best_solution is None or fitness < self.fitness(self.best_solution): #checking which solution is best, whether the current or already best\n",
    "                self.best_solution = ant.path\n",
    "        self.display()\n",
    "\n",
    "    def fitness(self, solution):\n",
    "        return 0 \n",
    "        #this part is incomplete\n",
    "        #the constraints for fitness are pheromone concentration and lenght of the path\n",
    "        #since the length of the path is same for all case, pheromone concentration is the only constraint\n",
    "        #the pheromone constraint has to be developed yet\n",
    "\n",
    "    def display(self):\n",
    "        print(\"Best solution: \",)\n",
    "        for i, schedule in enumerate(self.best_solution):\n",
    "            print(f\"DAY {i} : {schedule}\")\n",
    "        print(\"Fitness: \", self.fitness(self.best_solution))"
   ]
  },
  {
   "cell_type": "code",
   "execution_count": 11,
   "id": "b5190d48-1512-418c-9a48-64c19d2e65e4",
   "metadata": {},
   "outputs": [
    {
     "name": "stdout",
     "output_type": "stream",
     "text": [
      "Best solution: \n",
      "DAY 0 : CECAAB\n",
      "DAY 1 : BBCFFD\n",
      "DAY 2 : EABBDF\n",
      "DAY 3 : EBDCCB\n",
      "DAY 4 : EBBEAE\n",
      "Fitness:  0\n"
     ]
    }
   ],
   "source": [
    "#main function\n",
    "if __name__ == \"__main__\":\n",
    "    random.seed(time.time())\n",
    "    a = ACO()\n",
    "    a.aco()"
   ]
  },
  {
   "cell_type": "code",
   "execution_count": null,
   "id": "a21802bc-ad2c-40c8-8491-ff3a1a8309aa",
   "metadata": {},
   "outputs": [],
   "source": []
  }
 ],
 "metadata": {
  "kernelspec": {
   "display_name": "Python 3 (ipykernel)",
   "language": "python",
   "name": "python3"
  },
  "language_info": {
   "codemirror_mode": {
    "name": "ipython",
    "version": 3
   },
   "file_extension": ".py",
   "mimetype": "text/x-python",
   "name": "python",
   "nbconvert_exporter": "python",
   "pygments_lexer": "ipython3",
   "version": "3.11.2"
  }
 },
 "nbformat": 4,
 "nbformat_minor": 5
}
